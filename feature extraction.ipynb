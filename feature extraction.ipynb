{
 "cells": [
  {
   "cell_type": "markdown",
   "metadata": {},
   "source": [
    "# This is the project for Kaggle"
   ]
  },
  {
   "cell_type": "code",
   "execution_count": 9,
   "metadata": {
    "collapsed": false
   },
   "outputs": [
    {
     "name": "stdout",
     "output_type": "stream",
     "text": [
      "Once deleted, variables cannot be recovered. Proceed (y/[n])? y\n"
     ]
    }
   ],
   "source": [
    "% reset\n",
    "import numpy as np\n",
    "from scipy import signal\n",
    "import matplotlib\n",
    "import matplotlib.pyplot as plt\n",
    "import pywt\n",
    "from os import walk\n",
    "\n",
    "from scipy.io import loadmat\n",
    "import scipy\n",
    "import numpy as np\n"
   ]
  },
  {
   "cell_type": "code",
   "execution_count": 10,
   "metadata": {
    "collapsed": false
   },
   "outputs": [
    {
     "name": "stdout",
     "output_type": "stream",
     "text": [
      "16 240000\n"
     ]
    }
   ],
   "source": [
    "num_ch = 0 #number of channels\n",
    "raw_data_length = 0 #\n",
    "\n",
    "def set_globvar_to_one():\n",
    "    global num_ch    # Needed to modify global copy of globvar\n",
    "    num_ch = 16\n",
    "    global raw_data_length    # Needed to modify global copy of globvar\n",
    "    raw_data_length = 400*60*10\n",
    "\n",
    "def print_globvar():\n",
    "    print(num_ch,raw_data_length)     # No need for global declaration to read value of globvar\n",
    "\n",
    "set_globvar_to_one()\n",
    "print_globvar()       # Prints 1"
   ]
  },
  {
   "cell_type": "markdown",
   "metadata": {},
   "source": [
    "## Following code read raw data files"
   ]
  },
  {
   "cell_type": "code",
   "execution_count": 11,
   "metadata": {
    "collapsed": false
   },
   "outputs": [
    {
     "name": "stdout",
     "output_type": "stream",
     "text": [
      "total number of file found: 443\n"
     ]
    }
   ],
   "source": [
    "\n",
    "mypath = './sample_data/train_1'\n",
    "f = []\n",
    "for (dirpath, dirnames, filenames) in walk(mypath):\n",
    "    f.extend(filenames)\n",
    "    break\n",
    "file_path = []\n",
    "for x in f:\n",
    "    file_path.extend([dirpath+'/'+x])\n",
    "ttnf = len(file_path)\n",
    "print('total number of file found:',ttnf)\n"
   ]
  },
  {
   "cell_type": "code",
   "execution_count": 12,
   "metadata": {
    "collapsed": false
   },
   "outputs": [],
   "source": [
    "# loadmat('./sample_data/train_2/1_45_1.mat')\n",
    "\n"
   ]
  },
  {
   "cell_type": "code",
   "execution_count": null,
   "metadata": {
    "collapsed": false
   },
   "outputs": [],
   "source": [
    "\n",
    "raw_sig = np.zeros((raw_data_length,num_ch,ttnf))\n",
    "\n",
    "for i,fp in enumerate(file_path):\n",
    "    print(fp)\n",
    "    raw_data = loadmat(fp)['dataStruct']\n",
    "    raw_sig[:,:,i] = raw_data[0][0][0]\n",
    "#     np.append(raw_sig,raw_data[0][0][0],2)"
   ]
  },
  {
   "cell_type": "markdown",
   "metadata": {},
   "source": [
    "## Following code handles the case when all channel returns zero\n",
    "Lynn is going to do this part"
   ]
  },
  {
   "cell_type": "code",
   "execution_count": 14,
   "metadata": {
    "collapsed": false
   },
   "outputs": [
    {
     "data": {
      "image/png": "[encoded data removed]",
      "text/plain": [
       "<matplotlib.figure.Figure at 0x7f4b701a69b0>"
      ]
     },
     "metadata": {},
     "output_type": "display_data"
    }
   ],
   "source": [
    "% matplotlib inline\n",
    "matplotlib.rcParams['figure.figsize'] = (10.0, 10.0)\n",
    "\n",
    "raw_sig.shape\n",
    "sig = raw_sig[:,0,0]\n",
    "plt.subplot(2,1,1)\n",
    "plt.plot(sig)\n",
    "plt.show()\n"
   ]
  },
  {
   "cell_type": "markdown",
   "metadata": {},
   "source": [
    "## Following code extract features from signal using wavelet transform"
   ]
  },
  {
   "cell_type": "code",
   "execution_count": 15,
   "metadata": {
    "collapsed": false
   },
   "outputs": [
    {
     "name": "stdout",
     "output_type": "stream",
     "text": [
      "(240000, 16, 443)\n"
     ]
    }
   ],
   "source": [
    "\n",
    "def single_channel_dwt(sig):\n",
    "#     input 240000\n",
    "    coeffs = pywt.wavedec(sig, 'db1', level=6)\n",
    "    cA2, cD6, cD5, cD4, cD3, cD2, cD1 = coeffs\n",
    "    return cD6\n",
    "\n",
    "def multi_channel_dwt(sig):\n",
    "#     input: 240000 * 16\n",
    "#     return: k * 16\n",
    "    F = []\n",
    "    for s_sig in sig.T:\n",
    "        cd = single_channel_dwt(s_sig)\n",
    "        F.append(cd)\n",
    "#     return np.asarray(F)\n",
    "    return F\n",
    "\n",
    "def feature_extraction(sig):\n",
    "#     input: n * 240000 * 16\n",
    "#     return: #files *channels * features\n",
    "    FF = []\n",
    "    for i in range(sig.shape[2]):\n",
    "        F = multi_channel_dwt(raw_sig[:,:,1])\n",
    "        FF.append(F)\n",
    "    return FF\n",
    "\n",
    "print(raw_sig.shape)\n",
    "FF = feature_extraction(raw_sig) \n",
    "\n",
    "Y = []\n",
    "for i,F in enumerate(FF):\n",
    "    tmp = np.asarray(F)\n",
    "    X = np.reshape(tmp,tmp.shape[0]*tmp.shape[1])\n",
    "    Y.append(X)"
   ]
  },
  {
   "cell_type": "markdown",
   "metadata": {},
   "source": [
    "## Following code do dim reduction\n",
    "Deepak can futher improve\n"
   ]
  },
  {
   "cell_type": "code",
   "execution_count": 18,
   "metadata": {
    "collapsed": false
   },
   "outputs": [
    {
     "data": {
      "text/plain": [
       "[<matplotlib.lines.Line2D at 0x7f47ecf3a2b0>]"
      ]
     },
     "execution_count": 18,
     "metadata": {},
     "output_type": "execute_result"
    },
    {
     "data": {
      "image/png": "[encoded data removed]",
      "text/plain": [
       "<matplotlib.figure.Figure at 0x7f47e0473160>"
      ]
     },
     "metadata": {},
     "output_type": "display_data"
    }
   ],
   "source": [
    "from sklearn.manifold import TSNE\n",
    "X = np.asarray(Y)\n",
    "model = TSNE(n_components=2, random_state=0)\n",
    "np.set_printoptions(suppress=True)\n",
    "T = model.fit_transform(X) \n",
    "# print(T)\n",
    "plt.plot(T[:,0],T[:,1],'*')"
   ]
  },
  {
   "cell_type": "markdown",
   "metadata": {},
   "source": [
    "## Following code do clustering \n",
    "Deepak can to do this"
   ]
  },
  {
   "cell_type": "code",
   "execution_count": null,
   "metadata": {
    "collapsed": false
   },
   "outputs": [],
   "source": []
  },
  {
   "cell_type": "markdown",
   "metadata": {},
   "source": [
    "## Following code do classification"
   ]
  },
  {
   "cell_type": "code",
   "execution_count": null,
   "metadata": {
    "collapsed": true
   },
   "outputs": [],
   "source": []
  }
 ],
 "metadata": {
  "anaconda-cloud": {},
  "kernelspec": {
   "display_name": "Python [Root]",
   "language": "python",
   "name": "Python [Root]"
  },
  "language_info": {
   "codemirror_mode": {
    "name": "ipython",
    "version": 3
   },
   "file_extension": ".py",
   "mimetype": "text/x-python",
   "name": "python",
   "nbconvert_exporter": "python",
   "pygments_lexer": "ipython3",
   "version": "3.5.2"
  }
 },
 "nbformat": 4,
 "nbformat_minor": 0
}
